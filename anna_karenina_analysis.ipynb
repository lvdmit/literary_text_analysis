{
 "cells": [
  {
   "cell_type": "code",
   "execution_count": 1,
   "metadata": {},
   "outputs": [],
   "source": [
    "import pandas as pd\n",
    "import numpy as np\n",
    "import os\n",
    "import sys  \n",
    "import glob\n",
    "import csv\n",
    "import matplotlib"
   ]
  },
  {
   "cell_type": "code",
   "execution_count": 2,
   "metadata": {},
   "outputs": [],
   "source": [
    "import pyspark\n",
    "from pyspark.sql import SparkSession\n",
    "from pyspark.ml.feature import StopWordsRemover"
   ]
  },
  {
   "cell_type": "code",
   "execution_count": 3,
   "metadata": {},
   "outputs": [],
   "source": [
    "from pyspark.ml.feature import Tokenizer, RegexTokenizer\n",
    "from pyspark.sql.functions import col, udf\n",
    "from pyspark.sql.types import IntegerType"
   ]
  },
  {
   "cell_type": "code",
   "execution_count": 4,
   "metadata": {},
   "outputs": [],
   "source": [
    "header = ['text']\n",
    "\n",
    "with open('english2.txt', 'r') as f_data, open('output_english2.csv', 'w') as f_output:\n",
    "    csv_data = csv.reader(f_data)\n",
    "    csv_output = csv.writer(f_output)\n",
    "    csv_output.writerow(header)\n",
    "\n",
    "    for row in csv_data:\n",
    "        row = [cell.replace(r + ',', '') for cell, r in zip(row, header)]\n",
    "\n",
    "        csv_output.writerow(row)"
   ]
  },
  {
   "cell_type": "code",
   "execution_count": 6,
   "metadata": {},
   "outputs": [],
   "source": [
    "spark = SparkSession.builder.appName('characters_count').getOrCreate()"
   ]
  },
  {
   "cell_type": "code",
   "execution_count": 7,
   "metadata": {},
   "outputs": [],
   "source": [
    "df = spark.read.csv(\"output_english2.csv\", sep=\",\", header=True)"
   ]
  },
  {
   "cell_type": "code",
   "execution_count": 8,
   "metadata": {},
   "outputs": [],
   "source": [
    "#remove empty rows\n",
    "newDF = df.filter(\"text != ''\")"
   ]
  },
  {
   "cell_type": "code",
   "execution_count": 9,
   "metadata": {},
   "outputs": [
    {
     "name": "stdout",
     "output_type": "stream",
     "text": [
      "+-------------------------------------------------------------------------------------+\n",
      "|words                                                                                |\n",
      "+-------------------------------------------------------------------------------------+\n",
      "|[part, one]                                                                          |\n",
      "|[chapter, 1]                                                                         |\n",
      "|[happy, families, are, all, alike, every, unhappy, family, is, unhappy, in, its]     |\n",
      "|[own, way]                                                                           |\n",
      "|[everything, was, in, confusion, in, the, oblonskys, house, the, wife, had]          |\n",
      "|[discovered, that, the, husband, was, carrying, on, an, intrigue, with, a, french]   |\n",
      "|[girl]                                                                               |\n",
      "|[to, her, husband, that, she, could, not, go, on, living, in, the, same, house, with]|\n",
      "|[him, this, position, of, affairs, had, now, lasted, three, days]                    |\n",
      "|[the, husband, and, wife, themselves]                                                |\n",
      "|[and, household]                                                                     |\n",
      "|[house, felt, that, there, was, no, sense, in, their, living, together]              |\n",
      "|[the, stray, people, brought, together, by, chance, in, any, inn, had, more, in]     |\n",
      "|[common, with, one, another, than, they]                                             |\n",
      "|[household, of, the, oblonskys, the, wife, did, not, leave, her, own, room]          |\n",
      "|[husband, had, not, been, at, home, for, three, days, the, children, ran, wild, all] |\n",
      "|[over, the, house, the, english, governess, quarreled, with, the, housekeeper]       |\n",
      "|[and, wrote, to, a, friend, asking, her, to, look, out, for, a, new, situation, for] |\n",
      "|[her, the, man, cook, had, walked, off, the, day, before, just, at, dinner, time]    |\n",
      "|[the, kitchen, maid]                                                                 |\n",
      "+-------------------------------------------------------------------------------------+\n",
      "only showing top 20 rows\n",
      "\n"
     ]
    }
   ],
   "source": [
    "#remove punctuation\n",
    "regexTokenizer = RegexTokenizer(inputCol=\"text\", outputCol=\"words\", pattern=\"\\\\W\")\n",
    "regexTokenized = regexTokenizer.transform(newDF)\n",
    "regexTokenized.select(\"words\").show(truncate=False)"
   ]
  },
  {
   "cell_type": "code",
   "execution_count": 10,
   "metadata": {},
   "outputs": [
    {
     "name": "stdout",
     "output_type": "stream",
     "text": [
      "+--------+\n",
      "|words   |\n",
      "+--------+\n",
      "|part    |\n",
      "|one     |\n",
      "|chapter |\n",
      "|1       |\n",
      "|happy   |\n",
      "|families|\n",
      "|are     |\n",
      "|all     |\n",
      "|alike   |\n",
      "|every   |\n",
      "+--------+\n",
      "only showing top 10 rows\n",
      "\n"
     ]
    }
   ],
   "source": [
    "#transform lists of words into rows of words \n",
    "from pyspark.sql.functions import col, explode\n",
    "counted=regexTokenized.withColumn('words', explode(col('words')).alias('words'))\n",
    "counted.select('words').show(10, truncate=False)"
   ]
  },
  {
   "cell_type": "code",
   "execution_count": 11,
   "metadata": {},
   "outputs": [],
   "source": [
    "#creating windows of 1000 words and count names\n",
    "from pyspark.sql import Window\n",
    "from pyspark.sql import functions as F\n",
    "name_window = Window.orderBy('id').rangeBetween(-1000,0)\n",
    "namef = counted.select('words').withColumn('id', F.monotonically_increasing_id())\n",
    "# anna\n",
    "namef = namef.withColumn('anna', F.when((col('words') == 'anna') | (col('words') == 'karenina'), 1).otherwise(0))\n",
    "namef = namef.withColumn('anna_f', F.sum(namef.anna).over(name_window))\n",
    "# oblonsky\n",
    "namef = namef.withColumn('oblonsky', F.when((col('words') == 'oblonsky') | (col('words') == 'stiva') | (col('words') == 'stepan arkadyevitch'), 1).otherwise(0))\n",
    "namef = namef.withColumn('oblonsky_f', F.sum(namef.oblonsky).over(name_window))\n",
    "# vronsky\n",
    "namef = namef.withColumn('vronsky', F.when((col('words') == 'vronsky') | (col('words') == 'alexey kirillovitch'), 1).otherwise(0))\n",
    "namef = namef.withColumn('vronsky_f', F.sum(namef.vronsky).over(name_window))\n",
    "# levin\n",
    "namef = namef.withColumn('levin', F.when((col('words') == 'levin') | (col('words') == 'konstantin') | (col('words') == 'kostya'), 1).otherwise(0))\n",
    "namef = namef.withColumn('levin_f', F.sum(namef.levin).over(name_window))\n",
    "# dolly\n",
    "namef = namef.withColumn('dolly', F.when((col('words') == 'dolly') | (col('words') == 'darya'), 1).otherwise(0))\n",
    "namef = namef.withColumn('dolly_f', F.sum(namef.dolly).over(name_window))\n",
    "# kitty\n",
    "namef = namef.withColumn('kitty', F.when((col('words') == 'kitty') | (col('words') == 'katerina') | (col('words') == 'ekaterina'), 1).otherwise(0))\n",
    "namef = namef.withColumn('kitty_f', F.sum(namef.kitty).over(name_window))\n",
    "# karenin\n",
    "namef = namef.withColumn('karenin', F.when((col('words') == 'karenin') | (col('words') == 'alexey alexandrovitch'), 1).otherwise(0))\n",
    "namef = namef.withColumn('karenin_f', F.sum(namef.karenin).over(name_window))\n",
    "# namef.show(2000)"
   ]
  },
  {
   "cell_type": "code",
   "execution_count": 12,
   "metadata": {},
   "outputs": [
    {
     "name": "stdout",
     "output_type": "stream",
     "text": [
      "+-----+-------+-----------+----------+--------+--------+--------+----------+\n",
      "|   id|anna_mf|oblonsky_mf|vronsky_mf|levin_mf|dolly_mf|kitty_mf|karenin_mf|\n",
      "+-----+-------+-----------+----------+--------+--------+--------+----------+\n",
      "|    0|      0|          0|         0|       0|       0|       0|         0|\n",
      "| 1000|      0|          2|         0|       0|       0|       0|         0|\n",
      "| 2000|      0|          2|         0|       0|       3|       0|         0|\n",
      "| 3000|      0|          1|         0|       0|       8|       0|         0|\n",
      "| 4000|      2|          6|         0|       0|      10|       0|         2|\n",
      "| 5000|      2|         10|         0|      16|       3|       0|         2|\n",
      "| 6000|      0|         13|         0|      21|       0|       5|         0|\n",
      "| 7000|      0|          5|         0|      18|       0|       5|         0|\n",
      "| 8000|      0|          1|         0|      18|       0|       4|         0|\n",
      "| 9000|      0|          4|         0|      12|       1|       7|         0|\n",
      "|10000|      0|          4|         5|      16|       1|       4|         0|\n",
      "|11000|      0|          5|         5|      16|       0|       8|         0|\n",
      "|12000|      0|          3|         9|      12|       0|      12|         0|\n",
      "|13000|      0|          0|         8|      14|       0|       8|         0|\n",
      "|14000|      0|          0|        12|      18|       0|       8|         0|\n",
      "|15000|      3|          5|         9|      13|       1|      12|         0|\n",
      "|16000|      7|          5|        12|       4|       1|       9|         0|\n",
      "|17000|     10|          6|        13|       2|       9|       2|         0|\n",
      "|18000|     11|          5|         9|       0|      19|       2|         0|\n",
      "|19000|     15|          6|         2|       0|      12|      10|         0|\n",
      "|20000|     12|          4|         3|       1|       6|      10|         0|\n",
      "|21000|     12|          0|         9|       1|       0|      21|         0|\n",
      "|22000|     11|          0|        10|      12|       0|      21|         0|\n",
      "|23000|      1|          0|         3|      19|       0|       0|         0|\n",
      "|24000|      0|          0|         0|      22|       0|       0|         0|\n",
      "|25000|      9|          0|         1|      14|       6|       3|         0|\n",
      "|26000|     12|          0|         2|       1|       6|       3|         0|\n",
      "|27000|      4|          0|        10|       0|       0|       0|         0|\n",
      "|28000|     13|          0|        12|       0|       1|       0|         0|\n",
      "|29000|     14|          0|         6|       0|       1|       0|         0|\n",
      "|30000|      5|          0|         9|       0|       0|       3|         0|\n",
      "|31000|      2|          1|         3|       1|       2|       6|         0|\n",
      "|32000|      3|          1|         2|       4|       5|      18|         0|\n",
      "|33000|      7|          0|         7|       3|       4|      14|         0|\n",
      "|34000|      4|          0|         9|       0|       0|       0|         0|\n",
      "|35000|     11|          0|         8|       0|       0|       0|         0|\n",
      "|36000|     11|          0|         7|       0|       0|       1|         0|\n",
      "|37000|      5|          0|         4|       0|       0|       1|         0|\n",
      "|38000|      8|          0|         3|       0|       0|       0|         0|\n",
      "|39000|      5|          0|         3|       0|       0|       1|         0|\n",
      "|40000|      0|          0|         1|      11|       0|       1|         0|\n",
      "|41000|      0|          0|         0|      13|       0|       0|         0|\n",
      "|42000|      0|          3|         0|      12|       0|       1|         0|\n",
      "|43000|      0|          5|         0|      19|       0|       2|         0|\n",
      "|44000|      0|          2|         1|      17|       0|       2|         0|\n",
      "|45000|      3|          2|        10|      13|       0|       2|         1|\n",
      "|46000|      3|          0|        25|       3|       0|       0|         1|\n",
      "|47000|      1|          0|        24|       0|       0|       0|         0|\n",
      "|48000|      4|          0|         7|       0|       0|       0|         0|\n",
      "|49000|      3|          0|         4|       0|       0|       0|         0|\n",
      "+-----+-------+-----------+----------+--------+--------+--------+----------+\n",
      "only showing top 50 rows\n",
      "\n"
     ]
    }
   ],
   "source": [
    "# Compress namef dataframe. For each 1000 words we will take the maximum observed frequency in *_f columns\n",
    "\n",
    "namef_compr = namef\n",
    "namef_compr = namef_compr.withColumn('anna_mf', F.max(namef.anna_f).over(name_window))\n",
    "namef_compr = namef_compr.withColumn('oblonsky_mf', F.max(namef.oblonsky_f).over(name_window))\n",
    "namef_compr = namef_compr.withColumn('vronsky_mf', F.max(namef.vronsky_f).over(name_window))\n",
    "namef_compr = namef_compr.withColumn('levin_mf', F.max(namef.levin_f).over(name_window))\n",
    "namef_compr = namef_compr.withColumn('dolly_mf', F.max(namef.dolly_f).over(name_window))\n",
    "namef_compr = namef_compr.withColumn('kitty_mf', F.max(namef.kitty_f).over(name_window))\n",
    "namef_compr = namef_compr.withColumn('karenin_mf', F.max(namef.karenin_f).over(name_window))\n",
    "\n",
    "namef_compr = namef_compr.filter(col('id') % 1000 == 0)\n",
    "namef_compr = namef_compr.select('id', 'anna_mf', 'oblonsky_mf', 'vronsky_mf', 'levin_mf', 'dolly_mf', 'kitty_mf', 'karenin_mf')\n",
    "namef_compr.show(50)"
   ]
  },
  {
   "cell_type": "code",
   "execution_count": 13,
   "metadata": {},
   "outputs": [],
   "source": [
    "#write a csv file. NOTE: every time it overite existing csv with a new file name\n",
    "namef_compr.coalesce(1).write.csv('characters', mode='overwrite', header = 'true')"
   ]
  },
  {
   "cell_type": "code",
   "execution_count": 14,
   "metadata": {},
   "outputs": [
    {
     "data": {
      "text/html": [
       "<div>\n",
       "<style scoped>\n",
       "    .dataframe tbody tr th:only-of-type {\n",
       "        vertical-align: middle;\n",
       "    }\n",
       "\n",
       "    .dataframe tbody tr th {\n",
       "        vertical-align: top;\n",
       "    }\n",
       "\n",
       "    .dataframe thead th {\n",
       "        text-align: right;\n",
       "    }\n",
       "</style>\n",
       "<table border=\"1\" class=\"dataframe\">\n",
       "  <thead>\n",
       "    <tr style=\"text-align: right;\">\n",
       "      <th></th>\n",
       "      <th>id</th>\n",
       "      <th>anna_mf</th>\n",
       "      <th>oblonsky_mf</th>\n",
       "      <th>vronsky_mf</th>\n",
       "      <th>levin_mf</th>\n",
       "      <th>dolly_mf</th>\n",
       "      <th>kitty_mf</th>\n",
       "      <th>karenin_mf</th>\n",
       "    </tr>\n",
       "  </thead>\n",
       "  <tbody>\n",
       "    <tr>\n",
       "      <th>0</th>\n",
       "      <td>0</td>\n",
       "      <td>0</td>\n",
       "      <td>0</td>\n",
       "      <td>0</td>\n",
       "      <td>0</td>\n",
       "      <td>0</td>\n",
       "      <td>0</td>\n",
       "      <td>0</td>\n",
       "    </tr>\n",
       "    <tr>\n",
       "      <th>1</th>\n",
       "      <td>1000</td>\n",
       "      <td>0</td>\n",
       "      <td>2</td>\n",
       "      <td>0</td>\n",
       "      <td>0</td>\n",
       "      <td>0</td>\n",
       "      <td>0</td>\n",
       "      <td>0</td>\n",
       "    </tr>\n",
       "    <tr>\n",
       "      <th>2</th>\n",
       "      <td>2000</td>\n",
       "      <td>0</td>\n",
       "      <td>2</td>\n",
       "      <td>0</td>\n",
       "      <td>0</td>\n",
       "      <td>3</td>\n",
       "      <td>0</td>\n",
       "      <td>0</td>\n",
       "    </tr>\n",
       "    <tr>\n",
       "      <th>3</th>\n",
       "      <td>3000</td>\n",
       "      <td>0</td>\n",
       "      <td>1</td>\n",
       "      <td>0</td>\n",
       "      <td>0</td>\n",
       "      <td>8</td>\n",
       "      <td>0</td>\n",
       "      <td>0</td>\n",
       "    </tr>\n",
       "    <tr>\n",
       "      <th>4</th>\n",
       "      <td>4000</td>\n",
       "      <td>2</td>\n",
       "      <td>6</td>\n",
       "      <td>0</td>\n",
       "      <td>0</td>\n",
       "      <td>10</td>\n",
       "      <td>0</td>\n",
       "      <td>2</td>\n",
       "    </tr>\n",
       "    <tr>\n",
       "      <th>5</th>\n",
       "      <td>5000</td>\n",
       "      <td>2</td>\n",
       "      <td>10</td>\n",
       "      <td>0</td>\n",
       "      <td>16</td>\n",
       "      <td>3</td>\n",
       "      <td>0</td>\n",
       "      <td>2</td>\n",
       "    </tr>\n",
       "    <tr>\n",
       "      <th>6</th>\n",
       "      <td>6000</td>\n",
       "      <td>0</td>\n",
       "      <td>13</td>\n",
       "      <td>0</td>\n",
       "      <td>21</td>\n",
       "      <td>0</td>\n",
       "      <td>5</td>\n",
       "      <td>0</td>\n",
       "    </tr>\n",
       "    <tr>\n",
       "      <th>7</th>\n",
       "      <td>7000</td>\n",
       "      <td>0</td>\n",
       "      <td>5</td>\n",
       "      <td>0</td>\n",
       "      <td>18</td>\n",
       "      <td>0</td>\n",
       "      <td>5</td>\n",
       "      <td>0</td>\n",
       "    </tr>\n",
       "    <tr>\n",
       "      <th>8</th>\n",
       "      <td>8000</td>\n",
       "      <td>0</td>\n",
       "      <td>1</td>\n",
       "      <td>0</td>\n",
       "      <td>18</td>\n",
       "      <td>0</td>\n",
       "      <td>4</td>\n",
       "      <td>0</td>\n",
       "    </tr>\n",
       "    <tr>\n",
       "      <th>9</th>\n",
       "      <td>9000</td>\n",
       "      <td>0</td>\n",
       "      <td>4</td>\n",
       "      <td>0</td>\n",
       "      <td>12</td>\n",
       "      <td>1</td>\n",
       "      <td>7</td>\n",
       "      <td>0</td>\n",
       "    </tr>\n",
       "  </tbody>\n",
       "</table>\n",
       "</div>"
      ],
      "text/plain": [
       "     id  anna_mf  oblonsky_mf  vronsky_mf  levin_mf  dolly_mf  kitty_mf  \\\n",
       "0     0        0            0           0         0         0         0   \n",
       "1  1000        0            2           0         0         0         0   \n",
       "2  2000        0            2           0         0         3         0   \n",
       "3  3000        0            1           0         0         8         0   \n",
       "4  4000        2            6           0         0        10         0   \n",
       "5  5000        2           10           0        16         3         0   \n",
       "6  6000        0           13           0        21         0         5   \n",
       "7  7000        0            5           0        18         0         5   \n",
       "8  8000        0            1           0        18         0         4   \n",
       "9  9000        0            4           0        12         1         7   \n",
       "\n",
       "   karenin_mf  \n",
       "0           0  \n",
       "1           0  \n",
       "2           0  \n",
       "3           0  \n",
       "4           2  \n",
       "5           2  \n",
       "6           0  \n",
       "7           0  \n",
       "8           0  \n",
       "9           0  "
      ]
     },
     "execution_count": 14,
     "metadata": {},
     "output_type": "execute_result"
    }
   ],
   "source": [
    "#read this csv. NOTE: every time it will be a different file name\n",
    "df = pd.read_csv(\"characters/part-00000-1d8d2de0-304e-49bc-9233-b7f4086eb8e4-c000.csv\")\n",
    "df.head(10)"
   ]
  },
  {
   "cell_type": "code",
   "execution_count": 15,
   "metadata": {},
   "outputs": [
    {
     "data": {
      "text/html": [
       "<div>\n",
       "<style scoped>\n",
       "    .dataframe tbody tr th:only-of-type {\n",
       "        vertical-align: middle;\n",
       "    }\n",
       "\n",
       "    .dataframe tbody tr th {\n",
       "        vertical-align: top;\n",
       "    }\n",
       "\n",
       "    .dataframe thead th {\n",
       "        text-align: right;\n",
       "    }\n",
       "</style>\n",
       "<table border=\"1\" class=\"dataframe\">\n",
       "  <thead>\n",
       "    <tr style=\"text-align: right;\">\n",
       "      <th></th>\n",
       "      <th>1K Words</th>\n",
       "      <th>Anna</th>\n",
       "      <th>Oblonsky</th>\n",
       "      <th>Vronsky</th>\n",
       "      <th>Levin</th>\n",
       "      <th>Dolly</th>\n",
       "      <th>Kitty</th>\n",
       "      <th>Karenin</th>\n",
       "    </tr>\n",
       "  </thead>\n",
       "  <tbody>\n",
       "    <tr>\n",
       "      <th>0</th>\n",
       "      <td>0</td>\n",
       "      <td>0</td>\n",
       "      <td>0</td>\n",
       "      <td>0</td>\n",
       "      <td>0</td>\n",
       "      <td>0</td>\n",
       "      <td>0</td>\n",
       "      <td>0</td>\n",
       "    </tr>\n",
       "    <tr>\n",
       "      <th>1</th>\n",
       "      <td>1000</td>\n",
       "      <td>0</td>\n",
       "      <td>2</td>\n",
       "      <td>0</td>\n",
       "      <td>0</td>\n",
       "      <td>0</td>\n",
       "      <td>0</td>\n",
       "      <td>0</td>\n",
       "    </tr>\n",
       "    <tr>\n",
       "      <th>2</th>\n",
       "      <td>2000</td>\n",
       "      <td>0</td>\n",
       "      <td>2</td>\n",
       "      <td>0</td>\n",
       "      <td>0</td>\n",
       "      <td>3</td>\n",
       "      <td>0</td>\n",
       "      <td>0</td>\n",
       "    </tr>\n",
       "    <tr>\n",
       "      <th>3</th>\n",
       "      <td>3000</td>\n",
       "      <td>0</td>\n",
       "      <td>1</td>\n",
       "      <td>0</td>\n",
       "      <td>0</td>\n",
       "      <td>8</td>\n",
       "      <td>0</td>\n",
       "      <td>0</td>\n",
       "    </tr>\n",
       "    <tr>\n",
       "      <th>4</th>\n",
       "      <td>4000</td>\n",
       "      <td>2</td>\n",
       "      <td>6</td>\n",
       "      <td>0</td>\n",
       "      <td>0</td>\n",
       "      <td>10</td>\n",
       "      <td>0</td>\n",
       "      <td>2</td>\n",
       "    </tr>\n",
       "  </tbody>\n",
       "</table>\n",
       "</div>"
      ],
      "text/plain": [
       "   1K Words  Anna  Oblonsky  Vronsky  Levin  Dolly  Kitty  Karenin\n",
       "0         0     0         0        0      0      0      0        0\n",
       "1      1000     0         2        0      0      0      0        0\n",
       "2      2000     0         2        0      0      3      0        0\n",
       "3      3000     0         1        0      0      8      0        0\n",
       "4      4000     2         6        0      0     10      0        2"
      ]
     },
     "execution_count": 15,
     "metadata": {},
     "output_type": "execute_result"
    }
   ],
   "source": [
    "#rename columns\n",
    "df = df.rename(columns={'id':'1K Words', 'anna_mf':'Anna', 'oblonsky_mf':'Oblonsky', 'vronsky_mf':'Vronsky', \n",
    "                        'levin_mf':'Levin', 'dolly_mf':'Dolly', 'kitty_mf':'Kitty', 'karenin_mf':'Karenin'})\n",
    "df.to_csv('words_by_character.csv')\n",
    "df.head()"
   ]
  },
  {
   "cell_type": "code",
   "execution_count": 16,
   "metadata": {},
   "outputs": [
    {
     "data": {
      "text/html": [
       "<div>\n",
       "<style scoped>\n",
       "    .dataframe tbody tr th:only-of-type {\n",
       "        vertical-align: middle;\n",
       "    }\n",
       "\n",
       "    .dataframe tbody tr th {\n",
       "        vertical-align: top;\n",
       "    }\n",
       "\n",
       "    .dataframe thead th {\n",
       "        text-align: right;\n",
       "    }\n",
       "</style>\n",
       "<table border=\"1\" class=\"dataframe\">\n",
       "  <thead>\n",
       "    <tr style=\"text-align: right;\">\n",
       "      <th></th>\n",
       "      <th>count</th>\n",
       "    </tr>\n",
       "  </thead>\n",
       "  <tbody>\n",
       "    <tr>\n",
       "      <th>Anna</th>\n",
       "      <td>829</td>\n",
       "    </tr>\n",
       "    <tr>\n",
       "      <th>Oblonsky</th>\n",
       "      <td>214</td>\n",
       "    </tr>\n",
       "    <tr>\n",
       "      <th>Vronsky</th>\n",
       "      <td>867</td>\n",
       "    </tr>\n",
       "    <tr>\n",
       "      <th>Levin</th>\n",
       "      <td>1434</td>\n",
       "    </tr>\n",
       "    <tr>\n",
       "      <th>Dolly</th>\n",
       "      <td>436</td>\n",
       "    </tr>\n",
       "    <tr>\n",
       "      <th>Kitty</th>\n",
       "      <td>672</td>\n",
       "    </tr>\n",
       "    <tr>\n",
       "      <th>Karenin</th>\n",
       "      <td>61</td>\n",
       "    </tr>\n",
       "  </tbody>\n",
       "</table>\n",
       "</div>"
      ],
      "text/plain": [
       "          count\n",
       "Anna        829\n",
       "Oblonsky    214\n",
       "Vronsky     867\n",
       "Levin      1434\n",
       "Dolly       436\n",
       "Kitty       672\n",
       "Karenin      61"
      ]
     },
     "execution_count": 16,
     "metadata": {},
     "output_type": "execute_result"
    }
   ],
   "source": [
    "#create a dataframe of total words count by character\n",
    "df1 = df.sum()\n",
    "df_sum = df1.to_frame()\n",
    "df_sum.columns = ['count']\n",
    "df_sum = df_sum.drop(['1K Words'])\n",
    "df_sum.to_csv('total_words_by_character.csv')\n",
    "df_sum"
   ]
  },
  {
   "cell_type": "code",
   "execution_count": 17,
   "metadata": {},
   "outputs": [],
   "source": [
    "# instantiate remover with stopwords\n",
    "remover = StopWordsRemover(inputCol=\"words\", outputCol=\"filtered\")\n",
    "new_df2=remover.transform(regexTokenized)"
   ]
  },
  {
   "cell_type": "code",
   "execution_count": 18,
   "metadata": {},
   "outputs": [],
   "source": [
    "#remove additional stopwords and names\n",
    "stopwordList = ['ing', 'm', 've', 're', 'll', 'oh', 'upon','chapter', 'ah', 'whether']\n",
    "\n",
    "name_remover = StopWordsRemover(inputCol=\"words\", outputCol=\"filtered_without_names\", stopWords=stopwordList)\n",
    "\n",
    "new_df_without_names2=name_remover.transform(new_df2)\n",
    "# instantiate remover with stopwords\n",
    "remover_after_names = StopWordsRemover(inputCol=\"filtered_without_names\", outputCol=\"filtered_wo_names\")\n",
    "clean_df2=remover_after_names.transform(new_df_without_names2)"
   ]
  },
  {
   "cell_type": "code",
   "execution_count": 19,
   "metadata": {},
   "outputs": [
    {
     "name": "stdout",
     "output_type": "stream",
     "text": [
      "+-----------------+-----+\n",
      "|filtered_wo_names|count|\n",
      "+-----------------+-----+\n",
      "|levin            |927  |\n",
      "|said             |841  |\n",
      "|one              |703  |\n",
      "|vronsky          |535  |\n",
      "|well             |502  |\n",
      "|anna             |494  |\n",
      "|come             |449  |\n",
      "|know             |415  |\n",
      "|alexandrovitch   |415  |\n",
      "|yes              |410  |\n",
      "+-----------------+-----+\n",
      "only showing top 10 rows\n",
      "\n"
     ]
    }
   ],
   "source": [
    "# Count unique words\n",
    "counted_words_2 = clean_df2.withColumn('filtered_wo_names', explode(col('filtered_wo_names')).alias('filtered_wo_names')).\\\n",
    "groupBy('filtered_wo_names').count()\\\n",
    ".orderBy('count',ascending=False)\n",
    "\n",
    "counted_words_2.show(10, truncate=False)"
   ]
  },
  {
   "cell_type": "code",
   "execution_count": 20,
   "metadata": {},
   "outputs": [],
   "source": [
    "#write the daraframe into csv and read that csv. Note: every time different file name\n",
    "counted_words_2.coalesce(1).write.csv('words2', mode='overwrite', header = 'true')"
   ]
  },
  {
   "cell_type": "code",
   "execution_count": null,
   "metadata": {},
   "outputs": [],
   "source": [
    "df = pd.read_csv('words2/part-00000-d2b26535-8acc-470d-93ea-b36a14539643-c000.csv')\n",
    "# create a reduced dataframe and write it into csv\n",
    "words_reduced = df.iloc[:250]\n",
    "words_reduced.to_csv('words_reduced.csv')"
   ]
  },
  {
   "cell_type": "code",
   "execution_count": null,
   "metadata": {},
   "outputs": [],
   "source": [
    "from sqlalchemy import create_engine\n",
    "import sqlalchemy\n",
    "from sqlalchemy.ext.automap import automap_base\n",
    "from sqlalchemy.orm import Session\n",
    "from sqlalchemy import create_engine\n",
    "import pymysql\n",
    "pymysql.install_as_MySQLdb()"
   ]
  },
  {
   "cell_type": "code",
   "execution_count": null,
   "metadata": {},
   "outputs": [],
   "source": [
    "connection_string = \"root:password@localhost/anna_karenina\"\n",
    "engine = create_engine(f'mysql://{connection_string}')"
   ]
  },
  {
   "cell_type": "code",
   "execution_count": null,
   "metadata": {},
   "outputs": [],
   "source": [
    "words_reduced.to_sql(name='words_reduced', con=engine, if_exists='append', index=False)"
   ]
  },
  {
   "cell_type": "code",
   "execution_count": null,
   "metadata": {},
   "outputs": [],
   "source": [
    "df11=df_sum.reset_index()\n",
    "df11.head()"
   ]
  },
  {
   "cell_type": "code",
   "execution_count": null,
   "metadata": {},
   "outputs": [],
   "source": [
    "df3 = df11.rename(columns={'index':'characters'})"
   ]
  },
  {
   "cell_type": "code",
   "execution_count": null,
   "metadata": {},
   "outputs": [],
   "source": [
    "df3.to_sql(name='total_words_by_character', con=engine, if_exists='append', index=False)"
   ]
  },
  {
   "cell_type": "code",
   "execution_count": null,
   "metadata": {},
   "outputs": [],
   "source": [
    "df.to_sql(name='words_by_character', con=engine, if_exists='append', index=False)"
   ]
  },
  {
   "cell_type": "code",
   "execution_count": null,
   "metadata": {},
   "outputs": [],
   "source": [
    "engine.table_names()"
   ]
  },
  {
   "cell_type": "code",
   "execution_count": null,
   "metadata": {},
   "outputs": [],
   "source": [
    "pd.read_sql_query('select * from total_words_by_character', con=engine).head()"
   ]
  },
  {
   "cell_type": "code",
   "execution_count": null,
   "metadata": {},
   "outputs": [],
   "source": [
    "pd.read_sql_query('select * from words_by_character', con=engine).head()"
   ]
  },
  {
   "cell_type": "code",
   "execution_count": null,
   "metadata": {},
   "outputs": [],
   "source": [
    "pd.read_sql_query('select * from words_reduced', con=engine).head()"
   ]
  }
 ],
 "metadata": {
  "kernelspec": {
   "display_name": "Python 3",
   "language": "python",
   "name": "python3"
  },
  "language_info": {
   "codemirror_mode": {
    "name": "ipython",
    "version": 3
   },
   "file_extension": ".py",
   "mimetype": "text/x-python",
   "name": "python",
   "nbconvert_exporter": "python",
   "pygments_lexer": "ipython3",
   "version": "3.6.7"
  }
 },
 "nbformat": 4,
 "nbformat_minor": 2
}
